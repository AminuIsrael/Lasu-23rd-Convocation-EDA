{
 "cells": [
  {
   "cell_type": "code",
   "execution_count": 73,
   "metadata": {},
   "outputs": [],
   "source": [
    "import pandas as pd\n",
    "import numpy as np\n",
    "import cufflinks as cf\n",
    "import matplotlib.pyplot as plt\n",
    "import seaborn as sns\n",
    "%matplotlib inline"
   ]
  },
  {
   "cell_type": "code",
   "execution_count": 74,
   "metadata": {},
   "outputs": [],
   "source": [
    "programme = [\"Arts\",\"Education\",\"Engineering\",\"Law\",\"Management Science\",\"Basic Medical Sciences\",\"College of Medicine(MBBS & BDS)\",\"School of Communication\",\"School of Transport\",\"Science\",\"Social Science\",\"Total\"]"
   ]
  },
  {
   "cell_type": "code",
   "execution_count": 75,
   "metadata": {},
   "outputs": [],
   "source": [
    "Degrees = [\"1st Class Honours\",\"2nd Class Honours(Upper)\",\"2nd Class Honours(Lower)\",\"3rd Class Honours\",\"Pass\",\"Total\"]"
   ]
  },
  {
   "cell_type": "code",
   "execution_count": 76,
   "metadata": {},
   "outputs": [],
   "source": [
    "data = [[0,128,940,58,2,1128],[10,308,1569,40,2,1929],[2,22,20,12,0,56],[0,27,45,4,0,76],[13,319,4407,235,5,4979],[0,5,3,0,0,8],[0,53,0,0,0,53],[0,39,145,9,2,195],[0,4,3,3,0,10],[19,161,845,57,10,1092],[13,167,494,49,3,726],[57,1233,8471,467,24,10252]]"
   ]
  },
  {
   "cell_type": "code",
   "execution_count": 77,
   "metadata": {},
   "outputs": [
    {
     "data": {
      "text/html": [
       "<div>\n",
       "<style scoped>\n",
       "    .dataframe tbody tr th:only-of-type {\n",
       "        vertical-align: middle;\n",
       "    }\n",
       "\n",
       "    .dataframe tbody tr th {\n",
       "        vertical-align: top;\n",
       "    }\n",
       "\n",
       "    .dataframe thead th {\n",
       "        text-align: right;\n",
       "    }\n",
       "</style>\n",
       "<table border=\"1\" class=\"dataframe\">\n",
       "  <thead>\n",
       "    <tr style=\"text-align: right;\">\n",
       "      <th></th>\n",
       "      <th>1st Class Honours</th>\n",
       "      <th>2nd Class Honours(Upper)</th>\n",
       "      <th>2nd Class Honours(Lower)</th>\n",
       "      <th>3rd Class Honours</th>\n",
       "      <th>Pass</th>\n",
       "      <th>Total</th>\n",
       "    </tr>\n",
       "    <tr>\n",
       "      <th>Programme</th>\n",
       "      <th></th>\n",
       "      <th></th>\n",
       "      <th></th>\n",
       "      <th></th>\n",
       "      <th></th>\n",
       "      <th></th>\n",
       "    </tr>\n",
       "  </thead>\n",
       "  <tbody>\n",
       "    <tr>\n",
       "      <th>Arts</th>\n",
       "      <td>0</td>\n",
       "      <td>128</td>\n",
       "      <td>940</td>\n",
       "      <td>58</td>\n",
       "      <td>2</td>\n",
       "      <td>1128</td>\n",
       "    </tr>\n",
       "    <tr>\n",
       "      <th>Education</th>\n",
       "      <td>10</td>\n",
       "      <td>308</td>\n",
       "      <td>1569</td>\n",
       "      <td>40</td>\n",
       "      <td>2</td>\n",
       "      <td>1929</td>\n",
       "    </tr>\n",
       "    <tr>\n",
       "      <th>Engineering</th>\n",
       "      <td>2</td>\n",
       "      <td>22</td>\n",
       "      <td>20</td>\n",
       "      <td>12</td>\n",
       "      <td>0</td>\n",
       "      <td>56</td>\n",
       "    </tr>\n",
       "    <tr>\n",
       "      <th>Law</th>\n",
       "      <td>0</td>\n",
       "      <td>27</td>\n",
       "      <td>45</td>\n",
       "      <td>4</td>\n",
       "      <td>0</td>\n",
       "      <td>76</td>\n",
       "    </tr>\n",
       "    <tr>\n",
       "      <th>Management Science</th>\n",
       "      <td>13</td>\n",
       "      <td>319</td>\n",
       "      <td>4407</td>\n",
       "      <td>235</td>\n",
       "      <td>5</td>\n",
       "      <td>4979</td>\n",
       "    </tr>\n",
       "    <tr>\n",
       "      <th>Basic Medical Sciences</th>\n",
       "      <td>0</td>\n",
       "      <td>5</td>\n",
       "      <td>3</td>\n",
       "      <td>0</td>\n",
       "      <td>0</td>\n",
       "      <td>8</td>\n",
       "    </tr>\n",
       "    <tr>\n",
       "      <th>College of Medicine(MBBS &amp; BDS)</th>\n",
       "      <td>0</td>\n",
       "      <td>53</td>\n",
       "      <td>0</td>\n",
       "      <td>0</td>\n",
       "      <td>0</td>\n",
       "      <td>53</td>\n",
       "    </tr>\n",
       "    <tr>\n",
       "      <th>School of Communication</th>\n",
       "      <td>0</td>\n",
       "      <td>39</td>\n",
       "      <td>145</td>\n",
       "      <td>9</td>\n",
       "      <td>2</td>\n",
       "      <td>195</td>\n",
       "    </tr>\n",
       "    <tr>\n",
       "      <th>School of Transport</th>\n",
       "      <td>0</td>\n",
       "      <td>4</td>\n",
       "      <td>3</td>\n",
       "      <td>3</td>\n",
       "      <td>0</td>\n",
       "      <td>10</td>\n",
       "    </tr>\n",
       "    <tr>\n",
       "      <th>Science</th>\n",
       "      <td>19</td>\n",
       "      <td>161</td>\n",
       "      <td>845</td>\n",
       "      <td>57</td>\n",
       "      <td>10</td>\n",
       "      <td>1092</td>\n",
       "    </tr>\n",
       "    <tr>\n",
       "      <th>Social Science</th>\n",
       "      <td>13</td>\n",
       "      <td>167</td>\n",
       "      <td>494</td>\n",
       "      <td>49</td>\n",
       "      <td>3</td>\n",
       "      <td>726</td>\n",
       "    </tr>\n",
       "    <tr>\n",
       "      <th>Total</th>\n",
       "      <td>57</td>\n",
       "      <td>1233</td>\n",
       "      <td>8471</td>\n",
       "      <td>467</td>\n",
       "      <td>24</td>\n",
       "      <td>10252</td>\n",
       "    </tr>\n",
       "  </tbody>\n",
       "</table>\n",
       "</div>"
      ],
      "text/plain": [
       "                                 1st Class Honours  2nd Class Honours(Upper)  \\\n",
       "Programme                                                                      \n",
       "Arts                                             0                       128   \n",
       "Education                                       10                       308   \n",
       "Engineering                                      2                        22   \n",
       "Law                                              0                        27   \n",
       "Management Science                              13                       319   \n",
       "Basic Medical Sciences                           0                         5   \n",
       "College of Medicine(MBBS & BDS)                  0                        53   \n",
       "School of Communication                          0                        39   \n",
       "School of Transport                              0                         4   \n",
       "Science                                         19                       161   \n",
       "Social Science                                  13                       167   \n",
       "Total                                           57                      1233   \n",
       "\n",
       "                                 2nd Class Honours(Lower)  3rd Class Honours  \\\n",
       "Programme                                                                      \n",
       "Arts                                                  940                 58   \n",
       "Education                                            1569                 40   \n",
       "Engineering                                            20                 12   \n",
       "Law                                                    45                  4   \n",
       "Management Science                                   4407                235   \n",
       "Basic Medical Sciences                                  3                  0   \n",
       "College of Medicine(MBBS & BDS)                         0                  0   \n",
       "School of Communication                               145                  9   \n",
       "School of Transport                                     3                  3   \n",
       "Science                                               845                 57   \n",
       "Social Science                                        494                 49   \n",
       "Total                                                8471                467   \n",
       "\n",
       "                                 Pass  Total  \n",
       "Programme                                     \n",
       "Arts                                2   1128  \n",
       "Education                           2   1929  \n",
       "Engineering                         0     56  \n",
       "Law                                 0     76  \n",
       "Management Science                  5   4979  \n",
       "Basic Medical Sciences              0      8  \n",
       "College of Medicine(MBBS & BDS)     0     53  \n",
       "School of Communication             2    195  \n",
       "School of Transport                 0     10  \n",
       "Science                            10   1092  \n",
       "Social Science                      3    726  \n",
       "Total                              24  10252  "
      ]
     },
     "execution_count": 77,
     "metadata": {},
     "output_type": "execute_result"
    }
   ],
   "source": [
    "Table = pd.DataFrame(data,programme,Degrees).rename_axis(\"Programme\")\n",
    "Table"
   ]
  },
  {
   "cell_type": "markdown",
   "metadata": {},
   "source": [
    "# Exploratory Data Analysis"
   ]
  },
  {
   "cell_type": "code",
   "execution_count": 81,
   "metadata": {},
   "outputs": [],
   "source": [
    "Table_1 = Table.drop(\"Total\",axis=1)\n",
    "Table_2 = Table_1.drop(\"Total\",axis=0)\n",
    "Table_2.reset_index(level=0,inplace=True)"
   ]
  },
  {
   "cell_type": "code",
   "execution_count": 86,
   "metadata": {
    "scrolled": true
   },
   "outputs": [
    {
     "data": {
      "text/html": [
       "        <script type=\"text/javascript\">\n",
       "        window.PlotlyConfig = {MathJaxConfig: 'local'};\n",
       "        if (window.MathJax) {MathJax.Hub.Config({SVG: {font: \"STIX-Web\"}});}\n",
       "        if (typeof require !== 'undefined') {\n",
       "        require.undef(\"plotly\");\n",
       "        requirejs.config({\n",
       "            paths: {\n",
       "                'plotly': ['https://cdn.plot.ly/plotly-latest.min']\n",
       "            }\n",
       "        });\n",
       "        require(['plotly'], function(Plotly) {\n",
       "            window._Plotly = Plotly;\n",
       "        });\n",
       "        }\n",
       "        </script>\n",
       "        "
      ]
     },
     "metadata": {},
     "output_type": "display_data"
    }
   ],
   "source": [
    "cf.set_config_file(offline=True, world_readable=True, theme='ggplot')"
   ]
  },
  {
   "cell_type": "code",
   "execution_count": 126,
   "metadata": {},
   "outputs": [
    {
     "data": {
      "application/vnd.plotly.v1+json": {
       "config": {
        "linkText": "Export to plot.ly",
        "plotlyServerURL": "https://plot.ly",
        "responsive": true,
        "showLink": true
       },
       "data": [
        {
         "marker": {
          "color": "rgba(255, 153, 51, 0.6)",
          "line": {
           "color": "rgba(255, 153, 51, 1.0)",
           "width": 1
          }
         },
         "name": "1st Class Honours",
         "orientation": "v",
         "text": "",
         "type": "bar",
         "uid": "9b1f26de-7341-4167-99ed-8aafa68e5e8a",
         "x": [
          "Arts",
          "Education",
          "Engineering",
          "Law",
          "Management Science",
          "Basic Medical Sciences",
          "College of Medicine(MBBS & BDS)",
          "School of Communication",
          "School of Transport",
          "Science",
          "Social Science"
         ],
         "y": [
          0,
          10,
          2,
          0,
          13,
          0,
          0,
          0,
          0,
          19,
          13
         ]
        }
       ],
       "layout": {
        "legend": {
         "bgcolor": "#151516",
         "font": {
          "color": "#D9D9D9"
         }
        },
        "paper_bgcolor": "#151516",
        "plot_bgcolor": "#151516",
        "title": {
         "font": {
          "color": "#D9D9D9"
         },
         "text": "Programmes With First Class Degree"
        },
        "xaxis": {
         "gridcolor": "#434343",
         "showgrid": true,
         "tickfont": {
          "color": "#C2C2C2"
         },
         "title": {
          "font": {
           "color": "#D9D9D9"
          },
          "text": ""
         },
         "zerolinecolor": "#666570"
        },
        "yaxis": {
         "gridcolor": "#434343",
         "showgrid": true,
         "tickfont": {
          "color": "#C2C2C2"
         },
         "title": {
          "font": {
           "color": "#D9D9D9"
          },
          "text": "No of Graduand"
         },
         "zerolinecolor": "#666570"
        }
       }
      },
      "text/html": [
       "<div>\n",
       "        \n",
       "        \n",
       "            <div id=\"151a750b-d164-4f39-a16e-7882b52873a7\" class=\"plotly-graph-div\" style=\"height:525px; width:100%;\"></div>\n",
       "            <script type=\"text/javascript\">\n",
       "                require([\"plotly\"], function(Plotly) {\n",
       "                    window.PLOTLYENV=window.PLOTLYENV || {};\n",
       "                    window.PLOTLYENV.BASE_URL='https://plot.ly';\n",
       "                    \n",
       "                if (document.getElementById(\"151a750b-d164-4f39-a16e-7882b52873a7\")) {\n",
       "                    Plotly.newPlot(\n",
       "                        '151a750b-d164-4f39-a16e-7882b52873a7',\n",
       "                        [{\"marker\": {\"color\": \"rgba(255, 153, 51, 0.6)\", \"line\": {\"color\": \"rgba(255, 153, 51, 1.0)\", \"width\": 1}}, \"name\": \"1st Class Honours\", \"orientation\": \"v\", \"text\": \"\", \"type\": \"bar\", \"uid\": \"25beb425-d2f9-4434-ba93-f93140620165\", \"x\": [\"Arts\", \"Education\", \"Engineering\", \"Law\", \"Management Science\", \"Basic Medical Sciences\", \"College of Medicine(MBBS & BDS)\", \"School of Communication\", \"School of Transport\", \"Science\", \"Social Science\"], \"y\": [0, 10, 2, 0, 13, 0, 0, 0, 0, 19, 13]}],\n",
       "                        {\"legend\": {\"bgcolor\": \"#151516\", \"font\": {\"color\": \"#D9D9D9\"}}, \"paper_bgcolor\": \"#151516\", \"plot_bgcolor\": \"#151516\", \"title\": {\"font\": {\"color\": \"#D9D9D9\"}, \"text\": \"Programmes With First Class Degree\"}, \"xaxis\": {\"gridcolor\": \"#434343\", \"showgrid\": true, \"tickfont\": {\"color\": \"#C2C2C2\"}, \"title\": {\"font\": {\"color\": \"#D9D9D9\"}, \"text\": \"\"}, \"zerolinecolor\": \"#666570\"}, \"yaxis\": {\"gridcolor\": \"#434343\", \"showgrid\": true, \"tickfont\": {\"color\": \"#C2C2C2\"}, \"title\": {\"font\": {\"color\": \"#D9D9D9\"}, \"text\": \"No of Graduand\"}, \"zerolinecolor\": \"#666570\"}},\n",
       "                        {\"showLink\": true, \"linkText\": \"Export to plot.ly\", \"plotlyServerURL\": \"https://plot.ly\", \"responsive\": true}\n",
       "                    ).then(function(){\n",
       "                            \n",
       "var gd = document.getElementById('151a750b-d164-4f39-a16e-7882b52873a7');\n",
       "var x = new MutationObserver(function (mutations, observer) {{\n",
       "        var display = window.getComputedStyle(gd).display;\n",
       "        if (!display || display === 'none') {{\n",
       "            console.log([gd, 'removed!']);\n",
       "            Plotly.purge(gd);\n",
       "            observer.disconnect();\n",
       "        }}\n",
       "}});\n",
       "\n",
       "// Listen for the removal of the full notebook cells\n",
       "var notebookContainer = gd.closest('#notebook-container');\n",
       "if (notebookContainer) {{\n",
       "    x.observe(notebookContainer, {childList: true});\n",
       "}}\n",
       "\n",
       "// Listen for the clearing of the current output cell\n",
       "var outputEl = gd.closest('.output');\n",
       "if (outputEl) {{\n",
       "    x.observe(outputEl, {childList: true});\n",
       "}}\n",
       "\n",
       "                        })\n",
       "                };\n",
       "                });\n",
       "            </script>\n",
       "        </div>"
      ]
     },
     "metadata": {},
     "output_type": "display_data"
    }
   ],
   "source": [
    "Table_2.iplot(kind='bar',x=\"Programme\",y=\"1st Class Honours\",title=\"Programmes With First Class Degree\",yTitle=\"No of Graduand\",theme=\"solar\")"
   ]
  },
  {
   "cell_type": "code",
   "execution_count": 127,
   "metadata": {},
   "outputs": [
    {
     "data": {
      "application/vnd.plotly.v1+json": {
       "config": {
        "linkText": "Export to plot.ly",
        "plotlyServerURL": "https://plot.ly",
        "responsive": true,
        "showLink": true
       },
       "data": [
        {
         "marker": {
          "color": "rgba(255, 153, 51, 0.6)",
          "line": {
           "color": "rgba(255, 153, 51, 1.0)",
           "width": 1
          }
         },
         "name": "2nd Class Honours(Upper)",
         "orientation": "v",
         "text": "",
         "type": "bar",
         "uid": "85c8129f-fbb3-4b91-8606-11d57a36381e",
         "x": [
          "Arts",
          "Education",
          "Engineering",
          "Law",
          "Management Science",
          "Basic Medical Sciences",
          "College of Medicine(MBBS & BDS)",
          "School of Communication",
          "School of Transport",
          "Science",
          "Social Science"
         ],
         "y": [
          128,
          308,
          22,
          27,
          319,
          5,
          53,
          39,
          4,
          161,
          167
         ]
        }
       ],
       "layout": {
        "legend": {
         "bgcolor": "#151516",
         "font": {
          "color": "#D9D9D9"
         }
        },
        "paper_bgcolor": "#151516",
        "plot_bgcolor": "#151516",
        "title": {
         "font": {
          "color": "#D9D9D9"
         },
         "text": "Programmes With Second Class Degree(Upper)"
        },
        "xaxis": {
         "gridcolor": "#434343",
         "showgrid": true,
         "tickfont": {
          "color": "#C2C2C2"
         },
         "title": {
          "font": {
           "color": "#D9D9D9"
          },
          "text": ""
         },
         "zerolinecolor": "#666570"
        },
        "yaxis": {
         "gridcolor": "#434343",
         "showgrid": true,
         "tickfont": {
          "color": "#C2C2C2"
         },
         "title": {
          "font": {
           "color": "#D9D9D9"
          },
          "text": "No of Graduand"
         },
         "zerolinecolor": "#666570"
        }
       }
      },
      "text/html": [
       "<div>\n",
       "        \n",
       "        \n",
       "            <div id=\"193068bc-3e84-43af-aa97-ea8af3a40b47\" class=\"plotly-graph-div\" style=\"height:525px; width:100%;\"></div>\n",
       "            <script type=\"text/javascript\">\n",
       "                require([\"plotly\"], function(Plotly) {\n",
       "                    window.PLOTLYENV=window.PLOTLYENV || {};\n",
       "                    window.PLOTLYENV.BASE_URL='https://plot.ly';\n",
       "                    \n",
       "                if (document.getElementById(\"193068bc-3e84-43af-aa97-ea8af3a40b47\")) {\n",
       "                    Plotly.newPlot(\n",
       "                        '193068bc-3e84-43af-aa97-ea8af3a40b47',\n",
       "                        [{\"marker\": {\"color\": \"rgba(255, 153, 51, 0.6)\", \"line\": {\"color\": \"rgba(255, 153, 51, 1.0)\", \"width\": 1}}, \"name\": \"2nd Class Honours(Upper)\", \"orientation\": \"v\", \"text\": \"\", \"type\": \"bar\", \"uid\": \"d01b159a-16b0-4dbc-b892-224a1fa12dca\", \"x\": [\"Arts\", \"Education\", \"Engineering\", \"Law\", \"Management Science\", \"Basic Medical Sciences\", \"College of Medicine(MBBS & BDS)\", \"School of Communication\", \"School of Transport\", \"Science\", \"Social Science\"], \"y\": [128, 308, 22, 27, 319, 5, 53, 39, 4, 161, 167]}],\n",
       "                        {\"legend\": {\"bgcolor\": \"#151516\", \"font\": {\"color\": \"#D9D9D9\"}}, \"paper_bgcolor\": \"#151516\", \"plot_bgcolor\": \"#151516\", \"title\": {\"font\": {\"color\": \"#D9D9D9\"}, \"text\": \"Programmes With Second Class Degree(Upper)\"}, \"xaxis\": {\"gridcolor\": \"#434343\", \"showgrid\": true, \"tickfont\": {\"color\": \"#C2C2C2\"}, \"title\": {\"font\": {\"color\": \"#D9D9D9\"}, \"text\": \"\"}, \"zerolinecolor\": \"#666570\"}, \"yaxis\": {\"gridcolor\": \"#434343\", \"showgrid\": true, \"tickfont\": {\"color\": \"#C2C2C2\"}, \"title\": {\"font\": {\"color\": \"#D9D9D9\"}, \"text\": \"No of Graduand\"}, \"zerolinecolor\": \"#666570\"}},\n",
       "                        {\"showLink\": true, \"linkText\": \"Export to plot.ly\", \"plotlyServerURL\": \"https://plot.ly\", \"responsive\": true}\n",
       "                    ).then(function(){\n",
       "                            \n",
       "var gd = document.getElementById('193068bc-3e84-43af-aa97-ea8af3a40b47');\n",
       "var x = new MutationObserver(function (mutations, observer) {{\n",
       "        var display = window.getComputedStyle(gd).display;\n",
       "        if (!display || display === 'none') {{\n",
       "            console.log([gd, 'removed!']);\n",
       "            Plotly.purge(gd);\n",
       "            observer.disconnect();\n",
       "        }}\n",
       "}});\n",
       "\n",
       "// Listen for the removal of the full notebook cells\n",
       "var notebookContainer = gd.closest('#notebook-container');\n",
       "if (notebookContainer) {{\n",
       "    x.observe(notebookContainer, {childList: true});\n",
       "}}\n",
       "\n",
       "// Listen for the clearing of the current output cell\n",
       "var outputEl = gd.closest('.output');\n",
       "if (outputEl) {{\n",
       "    x.observe(outputEl, {childList: true});\n",
       "}}\n",
       "\n",
       "                        })\n",
       "                };\n",
       "                });\n",
       "            </script>\n",
       "        </div>"
      ]
     },
     "metadata": {},
     "output_type": "display_data"
    }
   ],
   "source": [
    "Table_2.iplot(kind='bar',x=\"Programme\",y=\"2nd Class Honours(Upper)\",title=\"Programmes With Second Class Degree(Upper)\",yTitle=\"No of Graduand\",theme=\"solar\")"
   ]
  },
  {
   "cell_type": "code",
   "execution_count": 128,
   "metadata": {},
   "outputs": [
    {
     "data": {
      "application/vnd.plotly.v1+json": {
       "config": {
        "linkText": "Export to plot.ly",
        "plotlyServerURL": "https://plot.ly",
        "responsive": true,
        "showLink": true
       },
       "data": [
        {
         "marker": {
          "color": "rgba(255, 153, 51, 0.6)",
          "line": {
           "color": "rgba(255, 153, 51, 1.0)",
           "width": 1
          }
         },
         "name": "2nd Class Honours(Lower)",
         "orientation": "v",
         "text": "",
         "type": "bar",
         "uid": "83fd64d5-3103-453f-86c7-3a3fe1d1e40f",
         "x": [
          "Arts",
          "Education",
          "Engineering",
          "Law",
          "Management Science",
          "Basic Medical Sciences",
          "College of Medicine(MBBS & BDS)",
          "School of Communication",
          "School of Transport",
          "Science",
          "Social Science"
         ],
         "y": [
          940,
          1569,
          20,
          45,
          4407,
          3,
          0,
          145,
          3,
          845,
          494
         ]
        }
       ],
       "layout": {
        "legend": {
         "bgcolor": "#151516",
         "font": {
          "color": "#D9D9D9"
         }
        },
        "paper_bgcolor": "#151516",
        "plot_bgcolor": "#151516",
        "title": {
         "font": {
          "color": "#D9D9D9"
         },
         "text": "Programmes With Second Class Degree(Lower)"
        },
        "xaxis": {
         "gridcolor": "#434343",
         "showgrid": true,
         "tickfont": {
          "color": "#C2C2C2"
         },
         "title": {
          "font": {
           "color": "#D9D9D9"
          },
          "text": ""
         },
         "zerolinecolor": "#666570"
        },
        "yaxis": {
         "gridcolor": "#434343",
         "showgrid": true,
         "tickfont": {
          "color": "#C2C2C2"
         },
         "title": {
          "font": {
           "color": "#D9D9D9"
          },
          "text": "No of Graduand"
         },
         "zerolinecolor": "#666570"
        }
       }
      },
      "text/html": [
       "<div>\n",
       "        \n",
       "        \n",
       "            <div id=\"7576270e-c052-4849-b035-c47eb1182022\" class=\"plotly-graph-div\" style=\"height:525px; width:100%;\"></div>\n",
       "            <script type=\"text/javascript\">\n",
       "                require([\"plotly\"], function(Plotly) {\n",
       "                    window.PLOTLYENV=window.PLOTLYENV || {};\n",
       "                    window.PLOTLYENV.BASE_URL='https://plot.ly';\n",
       "                    \n",
       "                if (document.getElementById(\"7576270e-c052-4849-b035-c47eb1182022\")) {\n",
       "                    Plotly.newPlot(\n",
       "                        '7576270e-c052-4849-b035-c47eb1182022',\n",
       "                        [{\"marker\": {\"color\": \"rgba(255, 153, 51, 0.6)\", \"line\": {\"color\": \"rgba(255, 153, 51, 1.0)\", \"width\": 1}}, \"name\": \"2nd Class Honours(Lower)\", \"orientation\": \"v\", \"text\": \"\", \"type\": \"bar\", \"uid\": \"53bc82e8-bd1d-46e3-ba6b-70250d6e89f3\", \"x\": [\"Arts\", \"Education\", \"Engineering\", \"Law\", \"Management Science\", \"Basic Medical Sciences\", \"College of Medicine(MBBS & BDS)\", \"School of Communication\", \"School of Transport\", \"Science\", \"Social Science\"], \"y\": [940, 1569, 20, 45, 4407, 3, 0, 145, 3, 845, 494]}],\n",
       "                        {\"legend\": {\"bgcolor\": \"#151516\", \"font\": {\"color\": \"#D9D9D9\"}}, \"paper_bgcolor\": \"#151516\", \"plot_bgcolor\": \"#151516\", \"title\": {\"font\": {\"color\": \"#D9D9D9\"}, \"text\": \"Programmes With Second Class Degree(Lower)\"}, \"xaxis\": {\"gridcolor\": \"#434343\", \"showgrid\": true, \"tickfont\": {\"color\": \"#C2C2C2\"}, \"title\": {\"font\": {\"color\": \"#D9D9D9\"}, \"text\": \"\"}, \"zerolinecolor\": \"#666570\"}, \"yaxis\": {\"gridcolor\": \"#434343\", \"showgrid\": true, \"tickfont\": {\"color\": \"#C2C2C2\"}, \"title\": {\"font\": {\"color\": \"#D9D9D9\"}, \"text\": \"No of Graduand\"}, \"zerolinecolor\": \"#666570\"}},\n",
       "                        {\"showLink\": true, \"linkText\": \"Export to plot.ly\", \"plotlyServerURL\": \"https://plot.ly\", \"responsive\": true}\n",
       "                    ).then(function(){\n",
       "                            \n",
       "var gd = document.getElementById('7576270e-c052-4849-b035-c47eb1182022');\n",
       "var x = new MutationObserver(function (mutations, observer) {{\n",
       "        var display = window.getComputedStyle(gd).display;\n",
       "        if (!display || display === 'none') {{\n",
       "            console.log([gd, 'removed!']);\n",
       "            Plotly.purge(gd);\n",
       "            observer.disconnect();\n",
       "        }}\n",
       "}});\n",
       "\n",
       "// Listen for the removal of the full notebook cells\n",
       "var notebookContainer = gd.closest('#notebook-container');\n",
       "if (notebookContainer) {{\n",
       "    x.observe(notebookContainer, {childList: true});\n",
       "}}\n",
       "\n",
       "// Listen for the clearing of the current output cell\n",
       "var outputEl = gd.closest('.output');\n",
       "if (outputEl) {{\n",
       "    x.observe(outputEl, {childList: true});\n",
       "}}\n",
       "\n",
       "                        })\n",
       "                };\n",
       "                });\n",
       "            </script>\n",
       "        </div>"
      ]
     },
     "metadata": {},
     "output_type": "display_data"
    }
   ],
   "source": [
    "Table_2.iplot(kind='bar',x=\"Programme\",y=\"2nd Class Honours(Lower)\",title=\"Programmes With Second Class Degree(Lower)\",yTitle=\"No of Graduand\",theme=\"solar\")"
   ]
  },
  {
   "cell_type": "code",
   "execution_count": 129,
   "metadata": {},
   "outputs": [
    {
     "data": {
      "application/vnd.plotly.v1+json": {
       "config": {
        "linkText": "Export to plot.ly",
        "plotlyServerURL": "https://plot.ly",
        "responsive": true,
        "showLink": true
       },
       "data": [
        {
         "marker": {
          "color": "rgba(255, 153, 51, 0.6)",
          "line": {
           "color": "rgba(255, 153, 51, 1.0)",
           "width": 1
          }
         },
         "name": "3rd Class Honours",
         "orientation": "v",
         "text": "",
         "type": "bar",
         "uid": "60f9c69b-5df9-4995-a2ac-57f1deaaf396",
         "x": [
          "Arts",
          "Education",
          "Engineering",
          "Law",
          "Management Science",
          "Basic Medical Sciences",
          "College of Medicine(MBBS & BDS)",
          "School of Communication",
          "School of Transport",
          "Science",
          "Social Science"
         ],
         "y": [
          58,
          40,
          12,
          4,
          235,
          0,
          0,
          9,
          3,
          57,
          49
         ]
        }
       ],
       "layout": {
        "legend": {
         "bgcolor": "#151516",
         "font": {
          "color": "#D9D9D9"
         }
        },
        "paper_bgcolor": "#151516",
        "plot_bgcolor": "#151516",
        "title": {
         "font": {
          "color": "#D9D9D9"
         },
         "text": "Programmes With Third Class Degree"
        },
        "xaxis": {
         "gridcolor": "#434343",
         "showgrid": true,
         "tickfont": {
          "color": "#C2C2C2"
         },
         "title": {
          "font": {
           "color": "#D9D9D9"
          },
          "text": ""
         },
         "zerolinecolor": "#666570"
        },
        "yaxis": {
         "gridcolor": "#434343",
         "showgrid": true,
         "tickfont": {
          "color": "#C2C2C2"
         },
         "title": {
          "font": {
           "color": "#D9D9D9"
          },
          "text": "No of Graduand"
         },
         "zerolinecolor": "#666570"
        }
       }
      },
      "text/html": [
       "<div>\n",
       "        \n",
       "        \n",
       "            <div id=\"ae69066d-d452-481a-a5ee-fdf190dbb686\" class=\"plotly-graph-div\" style=\"height:525px; width:100%;\"></div>\n",
       "            <script type=\"text/javascript\">\n",
       "                require([\"plotly\"], function(Plotly) {\n",
       "                    window.PLOTLYENV=window.PLOTLYENV || {};\n",
       "                    window.PLOTLYENV.BASE_URL='https://plot.ly';\n",
       "                    \n",
       "                if (document.getElementById(\"ae69066d-d452-481a-a5ee-fdf190dbb686\")) {\n",
       "                    Plotly.newPlot(\n",
       "                        'ae69066d-d452-481a-a5ee-fdf190dbb686',\n",
       "                        [{\"marker\": {\"color\": \"rgba(255, 153, 51, 0.6)\", \"line\": {\"color\": \"rgba(255, 153, 51, 1.0)\", \"width\": 1}}, \"name\": \"3rd Class Honours\", \"orientation\": \"v\", \"text\": \"\", \"type\": \"bar\", \"uid\": \"22ff9e7f-1262-474a-a50a-be510b433813\", \"x\": [\"Arts\", \"Education\", \"Engineering\", \"Law\", \"Management Science\", \"Basic Medical Sciences\", \"College of Medicine(MBBS & BDS)\", \"School of Communication\", \"School of Transport\", \"Science\", \"Social Science\"], \"y\": [58, 40, 12, 4, 235, 0, 0, 9, 3, 57, 49]}],\n",
       "                        {\"legend\": {\"bgcolor\": \"#151516\", \"font\": {\"color\": \"#D9D9D9\"}}, \"paper_bgcolor\": \"#151516\", \"plot_bgcolor\": \"#151516\", \"title\": {\"font\": {\"color\": \"#D9D9D9\"}, \"text\": \"Programmes With Third Class Degree\"}, \"xaxis\": {\"gridcolor\": \"#434343\", \"showgrid\": true, \"tickfont\": {\"color\": \"#C2C2C2\"}, \"title\": {\"font\": {\"color\": \"#D9D9D9\"}, \"text\": \"\"}, \"zerolinecolor\": \"#666570\"}, \"yaxis\": {\"gridcolor\": \"#434343\", \"showgrid\": true, \"tickfont\": {\"color\": \"#C2C2C2\"}, \"title\": {\"font\": {\"color\": \"#D9D9D9\"}, \"text\": \"No of Graduand\"}, \"zerolinecolor\": \"#666570\"}},\n",
       "                        {\"showLink\": true, \"linkText\": \"Export to plot.ly\", \"plotlyServerURL\": \"https://plot.ly\", \"responsive\": true}\n",
       "                    ).then(function(){\n",
       "                            \n",
       "var gd = document.getElementById('ae69066d-d452-481a-a5ee-fdf190dbb686');\n",
       "var x = new MutationObserver(function (mutations, observer) {{\n",
       "        var display = window.getComputedStyle(gd).display;\n",
       "        if (!display || display === 'none') {{\n",
       "            console.log([gd, 'removed!']);\n",
       "            Plotly.purge(gd);\n",
       "            observer.disconnect();\n",
       "        }}\n",
       "}});\n",
       "\n",
       "// Listen for the removal of the full notebook cells\n",
       "var notebookContainer = gd.closest('#notebook-container');\n",
       "if (notebookContainer) {{\n",
       "    x.observe(notebookContainer, {childList: true});\n",
       "}}\n",
       "\n",
       "// Listen for the clearing of the current output cell\n",
       "var outputEl = gd.closest('.output');\n",
       "if (outputEl) {{\n",
       "    x.observe(outputEl, {childList: true});\n",
       "}}\n",
       "\n",
       "                        })\n",
       "                };\n",
       "                });\n",
       "            </script>\n",
       "        </div>"
      ]
     },
     "metadata": {},
     "output_type": "display_data"
    }
   ],
   "source": [
    "Table_2.iplot(kind='bar',x=\"Programme\",y=\"3rd Class Honours\",title=\"Programmes With Third Class Degree\",yTitle=\"No of Graduand\",theme=\"solar\")"
   ]
  },
  {
   "cell_type": "code",
   "execution_count": 130,
   "metadata": {},
   "outputs": [
    {
     "data": {
      "application/vnd.plotly.v1+json": {
       "config": {
        "linkText": "Export to plot.ly",
        "plotlyServerURL": "https://plot.ly",
        "responsive": true,
        "showLink": true
       },
       "data": [
        {
         "marker": {
          "color": "rgba(255, 153, 51, 0.6)",
          "line": {
           "color": "rgba(255, 153, 51, 1.0)",
           "width": 1
          }
         },
         "name": "Pass",
         "orientation": "v",
         "text": "",
         "type": "bar",
         "uid": "4a929663-648c-4f12-8522-2bc1712895d5",
         "x": [
          "Arts",
          "Education",
          "Engineering",
          "Law",
          "Management Science",
          "Basic Medical Sciences",
          "College of Medicine(MBBS & BDS)",
          "School of Communication",
          "School of Transport",
          "Science",
          "Social Science"
         ],
         "y": [
          2,
          2,
          0,
          0,
          5,
          0,
          0,
          2,
          0,
          10,
          3
         ]
        }
       ],
       "layout": {
        "legend": {
         "bgcolor": "#151516",
         "font": {
          "color": "#D9D9D9"
         }
        },
        "paper_bgcolor": "#151516",
        "plot_bgcolor": "#151516",
        "title": {
         "font": {
          "color": "#D9D9D9"
         },
         "text": "Programmes With Pass Degree"
        },
        "xaxis": {
         "gridcolor": "#434343",
         "showgrid": true,
         "tickfont": {
          "color": "#C2C2C2"
         },
         "title": {
          "font": {
           "color": "#D9D9D9"
          },
          "text": ""
         },
         "zerolinecolor": "#666570"
        },
        "yaxis": {
         "gridcolor": "#434343",
         "showgrid": true,
         "tickfont": {
          "color": "#C2C2C2"
         },
         "title": {
          "font": {
           "color": "#D9D9D9"
          },
          "text": "No of Graduand"
         },
         "zerolinecolor": "#666570"
        }
       }
      },
      "text/html": [
       "<div>\n",
       "        \n",
       "        \n",
       "            <div id=\"a79f7fea-0fee-4f6f-9b92-68dd83a3422f\" class=\"plotly-graph-div\" style=\"height:525px; width:100%;\"></div>\n",
       "            <script type=\"text/javascript\">\n",
       "                require([\"plotly\"], function(Plotly) {\n",
       "                    window.PLOTLYENV=window.PLOTLYENV || {};\n",
       "                    window.PLOTLYENV.BASE_URL='https://plot.ly';\n",
       "                    \n",
       "                if (document.getElementById(\"a79f7fea-0fee-4f6f-9b92-68dd83a3422f\")) {\n",
       "                    Plotly.newPlot(\n",
       "                        'a79f7fea-0fee-4f6f-9b92-68dd83a3422f',\n",
       "                        [{\"marker\": {\"color\": \"rgba(255, 153, 51, 0.6)\", \"line\": {\"color\": \"rgba(255, 153, 51, 1.0)\", \"width\": 1}}, \"name\": \"Pass\", \"orientation\": \"v\", \"text\": \"\", \"type\": \"bar\", \"uid\": \"de965c6e-5116-4374-9050-feb0aab391df\", \"x\": [\"Arts\", \"Education\", \"Engineering\", \"Law\", \"Management Science\", \"Basic Medical Sciences\", \"College of Medicine(MBBS & BDS)\", \"School of Communication\", \"School of Transport\", \"Science\", \"Social Science\"], \"y\": [2, 2, 0, 0, 5, 0, 0, 2, 0, 10, 3]}],\n",
       "                        {\"legend\": {\"bgcolor\": \"#151516\", \"font\": {\"color\": \"#D9D9D9\"}}, \"paper_bgcolor\": \"#151516\", \"plot_bgcolor\": \"#151516\", \"title\": {\"font\": {\"color\": \"#D9D9D9\"}, \"text\": \"Programmes With Pass Degree\"}, \"xaxis\": {\"gridcolor\": \"#434343\", \"showgrid\": true, \"tickfont\": {\"color\": \"#C2C2C2\"}, \"title\": {\"font\": {\"color\": \"#D9D9D9\"}, \"text\": \"\"}, \"zerolinecolor\": \"#666570\"}, \"yaxis\": {\"gridcolor\": \"#434343\", \"showgrid\": true, \"tickfont\": {\"color\": \"#C2C2C2\"}, \"title\": {\"font\": {\"color\": \"#D9D9D9\"}, \"text\": \"No of Graduand\"}, \"zerolinecolor\": \"#666570\"}},\n",
       "                        {\"showLink\": true, \"linkText\": \"Export to plot.ly\", \"plotlyServerURL\": \"https://plot.ly\", \"responsive\": true}\n",
       "                    ).then(function(){\n",
       "                            \n",
       "var gd = document.getElementById('a79f7fea-0fee-4f6f-9b92-68dd83a3422f');\n",
       "var x = new MutationObserver(function (mutations, observer) {{\n",
       "        var display = window.getComputedStyle(gd).display;\n",
       "        if (!display || display === 'none') {{\n",
       "            console.log([gd, 'removed!']);\n",
       "            Plotly.purge(gd);\n",
       "            observer.disconnect();\n",
       "        }}\n",
       "}});\n",
       "\n",
       "// Listen for the removal of the full notebook cells\n",
       "var notebookContainer = gd.closest('#notebook-container');\n",
       "if (notebookContainer) {{\n",
       "    x.observe(notebookContainer, {childList: true});\n",
       "}}\n",
       "\n",
       "// Listen for the clearing of the current output cell\n",
       "var outputEl = gd.closest('.output');\n",
       "if (outputEl) {{\n",
       "    x.observe(outputEl, {childList: true});\n",
       "}}\n",
       "\n",
       "                        })\n",
       "                };\n",
       "                });\n",
       "            </script>\n",
       "        </div>"
      ]
     },
     "metadata": {},
     "output_type": "display_data"
    }
   ],
   "source": [
    "Table_2.iplot(kind='bar',x=\"Programme\",y=\"Pass\",title=\"Programmes With Pass Degree\",yTitle=\"No of Graduand\",theme=\"solar\")"
   ]
  },
  {
   "cell_type": "code",
   "execution_count": 136,
   "metadata": {},
   "outputs": [
    {
     "data": {
      "application/vnd.plotly.v1+json": {
       "config": {
        "linkText": "Export to plot.ly",
        "plotlyServerURL": "https://plot.ly",
        "responsive": true,
        "showLink": true
       },
       "data": [
        {
         "marker": {
          "color": "rgba(255, 153, 51, 0.6)",
          "line": {
           "color": "rgba(255, 153, 51, 1.0)",
           "width": 1
          }
         },
         "name": "1st Class Honours",
         "orientation": "v",
         "text": "",
         "type": "bar",
         "uid": "28fb9bec-f1f8-4124-b8de-2bdfb4c9c4ca",
         "x": [
          "Arts",
          "Education",
          "Engineering",
          "Law",
          "Management Science",
          "Basic Medical Sciences",
          "College of Medicine(MBBS & BDS)",
          "School of Communication",
          "School of Transport",
          "Science",
          "Social Science"
         ],
         "y": [
          0,
          10,
          2,
          0,
          13,
          0,
          0,
          0,
          0,
          19,
          13
         ]
        },
        {
         "marker": {
          "color": "rgba(55, 128, 191, 0.6)",
          "line": {
           "color": "rgba(55, 128, 191, 1.0)",
           "width": 1
          }
         },
         "name": "2nd Class Honours(Upper)",
         "orientation": "v",
         "text": "",
         "type": "bar",
         "uid": "174b1c1e-d033-48e7-9738-ae2aa3064a2d",
         "x": [
          "Arts",
          "Education",
          "Engineering",
          "Law",
          "Management Science",
          "Basic Medical Sciences",
          "College of Medicine(MBBS & BDS)",
          "School of Communication",
          "School of Transport",
          "Science",
          "Social Science"
         ],
         "y": [
          128,
          308,
          22,
          27,
          319,
          5,
          53,
          39,
          4,
          161,
          167
         ]
        },
        {
         "marker": {
          "color": "rgba(50, 171, 96, 0.6)",
          "line": {
           "color": "rgba(50, 171, 96, 1.0)",
           "width": 1
          }
         },
         "name": "2nd Class Honours(Lower)",
         "orientation": "v",
         "text": "",
         "type": "bar",
         "uid": "48e943f6-5b90-4359-883c-8517d9843c17",
         "x": [
          "Arts",
          "Education",
          "Engineering",
          "Law",
          "Management Science",
          "Basic Medical Sciences",
          "College of Medicine(MBBS & BDS)",
          "School of Communication",
          "School of Transport",
          "Science",
          "Social Science"
         ],
         "y": [
          940,
          1569,
          20,
          45,
          4407,
          3,
          0,
          145,
          3,
          845,
          494
         ]
        },
        {
         "marker": {
          "color": "rgba(128, 0, 128, 0.6)",
          "line": {
           "color": "rgba(128, 0, 128, 1.0)",
           "width": 1
          }
         },
         "name": "3rd Class Honours",
         "orientation": "v",
         "text": "",
         "type": "bar",
         "uid": "b522d23c-077d-4a50-9cb9-b9809aa29e8b",
         "x": [
          "Arts",
          "Education",
          "Engineering",
          "Law",
          "Management Science",
          "Basic Medical Sciences",
          "College of Medicine(MBBS & BDS)",
          "School of Communication",
          "School of Transport",
          "Science",
          "Social Science"
         ],
         "y": [
          58,
          40,
          12,
          4,
          235,
          0,
          0,
          9,
          3,
          57,
          49
         ]
        },
        {
         "marker": {
          "color": "rgba(219, 64, 82, 0.6)",
          "line": {
           "color": "rgba(219, 64, 82, 1.0)",
           "width": 1
          }
         },
         "name": "Pass",
         "orientation": "v",
         "text": "",
         "type": "bar",
         "uid": "87d49906-782f-42d4-9fb6-092c47003667",
         "x": [
          "Arts",
          "Education",
          "Engineering",
          "Law",
          "Management Science",
          "Basic Medical Sciences",
          "College of Medicine(MBBS & BDS)",
          "School of Communication",
          "School of Transport",
          "Science",
          "Social Science"
         ],
         "y": [
          2,
          2,
          0,
          0,
          5,
          0,
          0,
          2,
          0,
          10,
          3
         ]
        }
       ],
       "layout": {
        "legend": {
         "bgcolor": "#151516",
         "font": {
          "color": "#D9D9D9"
         }
        },
        "paper_bgcolor": "#151516",
        "plot_bgcolor": "#151516",
        "title": {
         "font": {
          "color": "#D9D9D9"
         }
        },
        "xaxis": {
         "gridcolor": "#434343",
         "showgrid": true,
         "tickfont": {
          "color": "#C2C2C2"
         },
         "title": {
          "font": {
           "color": "#D9D9D9"
          },
          "text": ""
         },
         "zerolinecolor": "#666570"
        },
        "yaxis": {
         "gridcolor": "#434343",
         "showgrid": true,
         "tickfont": {
          "color": "#C2C2C2"
         },
         "title": {
          "font": {
           "color": "#D9D9D9"
          },
          "text": ""
         },
         "zerolinecolor": "#666570"
        }
       }
      },
      "text/html": [
       "<div>\n",
       "        \n",
       "        \n",
       "            <div id=\"a4ebca2a-45f7-40a6-94e0-abf1427df0ad\" class=\"plotly-graph-div\" style=\"height:525px; width:100%;\"></div>\n",
       "            <script type=\"text/javascript\">\n",
       "                require([\"plotly\"], function(Plotly) {\n",
       "                    window.PLOTLYENV=window.PLOTLYENV || {};\n",
       "                    window.PLOTLYENV.BASE_URL='https://plot.ly';\n",
       "                    \n",
       "                if (document.getElementById(\"a4ebca2a-45f7-40a6-94e0-abf1427df0ad\")) {\n",
       "                    Plotly.newPlot(\n",
       "                        'a4ebca2a-45f7-40a6-94e0-abf1427df0ad',\n",
       "                        [{\"marker\": {\"color\": \"rgba(255, 153, 51, 0.6)\", \"line\": {\"color\": \"rgba(255, 153, 51, 1.0)\", \"width\": 1}}, \"name\": \"1st Class Honours\", \"orientation\": \"v\", \"text\": \"\", \"type\": \"bar\", \"uid\": \"2dc2a182-15a0-4d31-8a9c-7e1cb5f325be\", \"x\": [\"Arts\", \"Education\", \"Engineering\", \"Law\", \"Management Science\", \"Basic Medical Sciences\", \"College of Medicine(MBBS & BDS)\", \"School of Communication\", \"School of Transport\", \"Science\", \"Social Science\"], \"y\": [0, 10, 2, 0, 13, 0, 0, 0, 0, 19, 13]}, {\"marker\": {\"color\": \"rgba(55, 128, 191, 0.6)\", \"line\": {\"color\": \"rgba(55, 128, 191, 1.0)\", \"width\": 1}}, \"name\": \"2nd Class Honours(Upper)\", \"orientation\": \"v\", \"text\": \"\", \"type\": \"bar\", \"uid\": \"558febe5-1830-40ce-9d86-4ec32c159684\", \"x\": [\"Arts\", \"Education\", \"Engineering\", \"Law\", \"Management Science\", \"Basic Medical Sciences\", \"College of Medicine(MBBS & BDS)\", \"School of Communication\", \"School of Transport\", \"Science\", \"Social Science\"], \"y\": [128, 308, 22, 27, 319, 5, 53, 39, 4, 161, 167]}, {\"marker\": {\"color\": \"rgba(50, 171, 96, 0.6)\", \"line\": {\"color\": \"rgba(50, 171, 96, 1.0)\", \"width\": 1}}, \"name\": \"2nd Class Honours(Lower)\", \"orientation\": \"v\", \"text\": \"\", \"type\": \"bar\", \"uid\": \"4af5ff32-14af-402e-af66-99a1b49b156c\", \"x\": [\"Arts\", \"Education\", \"Engineering\", \"Law\", \"Management Science\", \"Basic Medical Sciences\", \"College of Medicine(MBBS & BDS)\", \"School of Communication\", \"School of Transport\", \"Science\", \"Social Science\"], \"y\": [940, 1569, 20, 45, 4407, 3, 0, 145, 3, 845, 494]}, {\"marker\": {\"color\": \"rgba(128, 0, 128, 0.6)\", \"line\": {\"color\": \"rgba(128, 0, 128, 1.0)\", \"width\": 1}}, \"name\": \"3rd Class Honours\", \"orientation\": \"v\", \"text\": \"\", \"type\": \"bar\", \"uid\": \"34a4f0af-6b9b-44d4-9e47-de0b305463e2\", \"x\": [\"Arts\", \"Education\", \"Engineering\", \"Law\", \"Management Science\", \"Basic Medical Sciences\", \"College of Medicine(MBBS & BDS)\", \"School of Communication\", \"School of Transport\", \"Science\", \"Social Science\"], \"y\": [58, 40, 12, 4, 235, 0, 0, 9, 3, 57, 49]}, {\"marker\": {\"color\": \"rgba(219, 64, 82, 0.6)\", \"line\": {\"color\": \"rgba(219, 64, 82, 1.0)\", \"width\": 1}}, \"name\": \"Pass\", \"orientation\": \"v\", \"text\": \"\", \"type\": \"bar\", \"uid\": \"ec2f7808-d4bf-48d0-a3a4-573ff613ef2d\", \"x\": [\"Arts\", \"Education\", \"Engineering\", \"Law\", \"Management Science\", \"Basic Medical Sciences\", \"College of Medicine(MBBS & BDS)\", \"School of Communication\", \"School of Transport\", \"Science\", \"Social Science\"], \"y\": [2, 2, 0, 0, 5, 0, 0, 2, 0, 10, 3]}],\n",
       "                        {\"legend\": {\"bgcolor\": \"#151516\", \"font\": {\"color\": \"#D9D9D9\"}}, \"paper_bgcolor\": \"#151516\", \"plot_bgcolor\": \"#151516\", \"title\": {\"font\": {\"color\": \"#D9D9D9\"}}, \"xaxis\": {\"gridcolor\": \"#434343\", \"showgrid\": true, \"tickfont\": {\"color\": \"#C2C2C2\"}, \"title\": {\"font\": {\"color\": \"#D9D9D9\"}, \"text\": \"\"}, \"zerolinecolor\": \"#666570\"}, \"yaxis\": {\"gridcolor\": \"#434343\", \"showgrid\": true, \"tickfont\": {\"color\": \"#C2C2C2\"}, \"title\": {\"font\": {\"color\": \"#D9D9D9\"}, \"text\": \"\"}, \"zerolinecolor\": \"#666570\"}},\n",
       "                        {\"showLink\": true, \"linkText\": \"Export to plot.ly\", \"plotlyServerURL\": \"https://plot.ly\", \"responsive\": true}\n",
       "                    ).then(function(){\n",
       "                            \n",
       "var gd = document.getElementById('a4ebca2a-45f7-40a6-94e0-abf1427df0ad');\n",
       "var x = new MutationObserver(function (mutations, observer) {{\n",
       "        var display = window.getComputedStyle(gd).display;\n",
       "        if (!display || display === 'none') {{\n",
       "            console.log([gd, 'removed!']);\n",
       "            Plotly.purge(gd);\n",
       "            observer.disconnect();\n",
       "        }}\n",
       "}});\n",
       "\n",
       "// Listen for the removal of the full notebook cells\n",
       "var notebookContainer = gd.closest('#notebook-container');\n",
       "if (notebookContainer) {{\n",
       "    x.observe(notebookContainer, {childList: true});\n",
       "}}\n",
       "\n",
       "// Listen for the clearing of the current output cell\n",
       "var outputEl = gd.closest('.output');\n",
       "if (outputEl) {{\n",
       "    x.observe(outputEl, {childList: true});\n",
       "}}\n",
       "\n",
       "                        })\n",
       "                };\n",
       "                });\n",
       "            </script>\n",
       "        </div>"
      ]
     },
     "metadata": {},
     "output_type": "display_data"
    }
   ],
   "source": [
    "Table_2.iplot(kind='bar',x=\"Programme\",theme=\"solar\")"
   ]
  },
  {
   "cell_type": "code",
   "execution_count": 107,
   "metadata": {},
   "outputs": [
    {
     "data": {
      "text/plain": [
       "<seaborn.axisgrid.PairGrid at 0x1322a550>"
      ]
     },
     "execution_count": 107,
     "metadata": {},
     "output_type": "execute_result"
    },
    {
     "data": {
      "image/png": "[encoded data removed]",
      "text/plain": [
       "<Figure size 900x900 with 30 Axes>"
      ]
     },
     "metadata": {
      "needs_background": "light"
     },
     "output_type": "display_data"
    }
   ],
   "source": [
    "sns.pairplot(Table_2)"
   ]
  },
  {
   "cell_type": "code",
   "execution_count": 111,
   "metadata": {},
   "outputs": [
    {
     "data": {
      "text/plain": [
       "<matplotlib.axes._subplots.AxesSubplot at 0x108eee50>"
      ]
     },
     "execution_count": 111,
     "metadata": {},
     "output_type": "execute_result"
    },
    {
     "data": {
      "image/png": "[encoded data removed]",
      "text/plain": [
       "<Figure size 720x504 with 2 Axes>"
      ]
     },
     "metadata": {
      "needs_background": "light"
     },
     "output_type": "display_data"
    }
   ],
   "source": [
    "plt.figure(figsize=(10,7))\n",
    "plt.title(\"Relationship Between Programmes and degrees\")\n",
    "sns.heatmap(Table)"
   ]
  },
  {
   "cell_type": "code",
   "execution_count": null,
   "metadata": {},
   "outputs": [],
   "source": []
  }
 ],
 "metadata": {
  "kernelspec": {
   "display_name": "Python 3",
   "language": "python",
   "name": "python3"
  },
  "language_info": {
   "codemirror_mode": {
    "name": "ipython",
    "version": 3
   },
   "file_extension": ".py",
   "mimetype": "text/x-python",
   "name": "python",
   "nbconvert_exporter": "python",
   "pygments_lexer": "ipython3",
   "version": "3.6.1"
  }
 },
 "nbformat": 4,
 "nbformat_minor": 2
}
